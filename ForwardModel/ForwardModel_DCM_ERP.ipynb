{
 "cells": [
  {
   "cell_type": "markdown",
   "id": "3d946546",
   "metadata": {},
   "source": [
    "### Simuating a neural mass (ODE) model of ERP  in Numba/JAX"
   ]
  },
  {
   "cell_type": "code",
   "execution_count": 1,
   "id": "88c3c20c",
   "metadata": {},
   "outputs": [],
   "source": [
    "import os\n",
    "import sys\n",
    "import time\n",
    "import errno\n",
    "import timeit\n",
    "import pathlib"
   ]
  },
  {
   "cell_type": "code",
   "execution_count": 2,
   "id": "0c746d58",
   "metadata": {},
   "outputs": [],
   "source": [
    "import numpy as np\n",
    "import matplotlib.pyplot as plt"
   ]
  },
  {
   "cell_type": "code",
   "execution_count": 3,
   "id": "5d7da285",
   "metadata": {},
   "outputs": [],
   "source": [
    "import warnings\n",
    "warnings.filterwarnings('ignore')\n",
    "warnings.simplefilter(action=\"ignore\", category=FutureWarning)"
   ]
  },
  {
   "cell_type": "code",
   "execution_count": 4,
   "id": "024a709a",
   "metadata": {},
   "outputs": [],
   "source": [
    "cwd = os.getcwd()\n",
    "main_path = str(pathlib.Path.cwd().parent)\n",
    "sys.path.append(main_path) # Path to import the model and solver\n",
    "\n",
    "output_dir= cwd + '/output_numpyro/'\n",
    "! mkdir -p $output_dir"
   ]
  },
  {
   "cell_type": "markdown",
   "id": "72c01110",
   "metadata": {},
   "source": [
    "### Motivation\n",
    "\n",
    "Ordinary differential equation models (ODEs) are used in a variety of science and engineering domains to model the time evolution of physical variables.  However, ODEs can be challenging to specify and solve for the Bayesian setting, therefore, this notebook focus only on the standard way for solving an ODE problem using Numba's JIT and JAX's JIT (odeint and diffrax). \n",
    "Note that the aim is not to benchmark and compare the error/cost of differetn methods for ODEs. For Bayesian model inversion, we use JAX's odint to run Numpyro's NUTS.  "
   ]
  },
  {
   "cell_type": "markdown",
   "id": "3ae560ad",
   "metadata": {},
   "source": [
    "### Neural Mass Model\n",
    "\n",
    "The mode of Olivier David et al describes the interaction between theree neural populations of pyramidal (x9), \n",
    "inhibitory interneuron (x7) \n",
    "spiny-stellate cells (x1)."
   ]
  },
  {
   "cell_type": "markdown",
   "id": "6b96aeac",
   "metadata": {},
   "source": [
    "This ODE given by:\n",
    "\n",
    "\n",
    "\n",
    "\n",
    "\\begin{equation}\n",
    "    \\begin{aligned}\n",
    "    \\dot x_1(t) &= x_4 (t) \\\\\n",
    "    \\dot x_2(t) &= x_5(t) \\\\\n",
    "    \\dot x_3(t) &= \\dfrac{h_e}{\\tau_e} \\left( g_1 \\left( \n",
    "    \\dfrac{1}{\\exp^{-0.56 x_9 (t - \\delta)} + 1} - 0.5 \\right) + u \\right) - \\dfrac{x_1(t)}{\\tau_e^2} - \\dfrac{2 x_4(t)}{\\tau_e} \\\\\n",
    "    \\dot x_5(t) &= \\dfrac{g_2 h_e}{\\tau_e}  \\left( \n",
    "    \\dfrac{1}{\\exp^{-0.56 x_1 (t - \\delta)} + 1} -0.5 \\right) - \\dfrac{x_2(t)}{\\tau_e^2} - \\dfrac{2 x_5(t)}{\\tau_e} \\\\\n",
    "    \\dot x_6(t) &= \\dfrac{g_4 h_i}{\\tau_i}  \\left( \n",
    "    \\dfrac{1}{\\exp^{-0.56 x_7 (t - \\delta)} + 1} -0.5 \\right) - \\dfrac{x_3(t)}{\\tau_i^2} - \\dfrac{2 x_6(t)}{\\tau_i} \\\\\n",
    "    \\dot x_7(t) &= x_8(t) \\\\\n",
    "    \\dot x_8(t) &= \\dfrac{g_3 h_e}{\\tau_e}  \\left( \n",
    "    \\dfrac{1}{\\exp^{-0.56 x_9 (t - \\delta)} + 1} -0.5 \\right) - \\dfrac{x_7(t)}{\\tau_e^2} - \\dfrac{2 x_8(t)}{\\tau_e} \\\\\n",
    "    \\dot x_9(t) &= x_5(t) - x_6(t)\n",
    "\\end{aligned}\n",
    "\\end{equation}\n",
    "\n",
    "\n"
   ]
  },
  {
   "cell_type": "markdown",
   "id": "01218d05",
   "metadata": {},
   "source": [
    "### Integration Set-up"
   ]
  },
  {
   "cell_type": "code",
   "execution_count": 5,
   "id": "450b9243",
   "metadata": {},
   "outputs": [],
   "source": [
    "tend = 500.0\n",
    "dt = 0.1\n",
    "t0 = 0.0\n",
    "ts = np.arange(t0, tend + dt, dt)\n",
    "nt = ts.shape[0]"
   ]
  },
  {
   "cell_type": "code",
   "execution_count": 6,
   "id": "df8284cc",
   "metadata": {},
   "outputs": [],
   "source": [
    "ns = 9\n",
    "x_init=np.zeros((ns))"
   ]
  },
  {
   "cell_type": "code",
   "execution_count": 7,
   "id": "09d09a3f",
   "metadata": {},
   "outputs": [],
   "source": [
    "c=-0.56\n",
    "constants=np.array([c])"
   ]
  },
  {
   "cell_type": "code",
   "execution_count": 8,
   "id": "ae8dbebb",
   "metadata": {},
   "outputs": [],
   "source": [
    "theta_true = np.array([0.42, 0.76, 0.15, 0.16, 12.13, 7.77, 27.87, 5.77, 1.63, 3.94])\n",
    "n_params = theta_true.shape[0]"
   ]
  },
  {
   "cell_type": "code",
   "execution_count": 9,
   "id": "573d8262",
   "metadata": {},
   "outputs": [],
   "source": [
    "my_var_names = ['g_1', 'g_2', 'g_3', 'g_4', 'delta', 'tau_i', 'h_i', 'tau_e', 'h_e', 'u']"
   ]
  },
  {
   "cell_type": "markdown",
   "id": "f8f4ab37",
   "metadata": {},
   "source": [
    "### Numba JIT"
   ]
  },
  {
   "cell_type": "code",
   "execution_count": 10,
   "id": "8e94fa34",
   "metadata": {},
   "outputs": [],
   "source": [
    "import numba\n",
    "from numba import  jit"
   ]
  },
  {
   "cell_type": "code",
   "execution_count": 11,
   "id": "827ad144",
   "metadata": {},
   "outputs": [],
   "source": [
    "from ForwardModel.ERPmodel_Numba import DCM_ERPmodel, odeint_euler, odeint_heun, odeint_rk4"
   ]
  },
  {
   "cell_type": "markdown",
   "id": "3d995d9d",
   "metadata": {},
   "source": [
    "Simulation using Numba with Euler and compiling:"
   ]
  },
  {
   "cell_type": "code",
   "execution_count": 12,
   "id": "d08aa1e7",
   "metadata": {},
   "outputs": [
    {
     "name": "stdout",
     "output_type": "stream",
     "text": [
      "CPU times: user 1.05 s, sys: 103 ms, total: 1.15 s\n",
      "Wall time: 1.15 s\n"
     ]
    }
   ],
   "source": [
    "%%time\n",
    "xs_euler = odeint_euler(DCM_ERPmodel, x_init, ts, theta_true)"
   ]
  },
  {
   "cell_type": "markdown",
   "id": "85e7dae5",
   "metadata": {},
   "source": [
    "Simulation using Numba's JIT with Euler:"
   ]
  },
  {
   "cell_type": "code",
   "execution_count": 13,
   "id": "82b40f6c",
   "metadata": {},
   "outputs": [
    {
     "name": "stdout",
     "output_type": "stream",
     "text": [
      "CPU times: user 1.19 ms, sys: 4 µs, total: 1.19 ms\n",
      "Wall time: 1.2 ms\n"
     ]
    }
   ],
   "source": [
    "%%time\n",
    "xs_euler = odeint_euler(DCM_ERPmodel, x_init, ts, theta_true)"
   ]
  },
  {
   "cell_type": "code",
   "execution_count": 14,
   "id": "82ea95f5",
   "metadata": {},
   "outputs": [],
   "source": [
    "xpy_numba=xs_euler[:,8]"
   ]
  },
  {
   "cell_type": "markdown",
   "id": "a4160c82",
   "metadata": {},
   "source": [
    "### JAX's JIT "
   ]
  },
  {
   "cell_type": "code",
   "execution_count": 15,
   "id": "7d476b8a",
   "metadata": {},
   "outputs": [],
   "source": [
    "import jax \n",
    "import jax.numpy as jnp\n",
    "from jax import lax"
   ]
  },
  {
   "cell_type": "code",
   "execution_count": 16,
   "id": "e1330b93",
   "metadata": {},
   "outputs": [],
   "source": [
    "from ForwardModel.ERPmodel_JAX import DCM_ERPmodel, odeint_euler, odeint_heun, odeint_rk4"
   ]
  },
  {
   "cell_type": "code",
   "execution_count": 17,
   "id": "8a2039d4",
   "metadata": {},
   "outputs": [],
   "source": [
    "from jax import random\n",
    "rng_key = random.PRNGKey(0)"
   ]
  },
  {
   "cell_type": "markdown",
   "id": "aa62d643",
   "metadata": {},
   "source": [
    "Simulation using JAX with Euler/Heun/RK4"
   ]
  },
  {
   "cell_type": "code",
   "execution_count": 18,
   "id": "e8acd3b4",
   "metadata": {},
   "outputs": [
    {
     "name": "stdout",
     "output_type": "stream",
     "text": [
      "CPU times: user 172 ms, sys: 13.9 ms, total: 185 ms\n",
      "Wall time: 183 ms\n"
     ]
    }
   ],
   "source": [
    "%%time\n",
    "xs_euler = odeint_euler(DCM_ERPmodel, x_init, ts, theta_true)"
   ]
  },
  {
   "cell_type": "code",
   "execution_count": 19,
   "id": "c9d47b6a",
   "metadata": {},
   "outputs": [
    {
     "name": "stdout",
     "output_type": "stream",
     "text": [
      "CPU times: user 198 ms, sys: 9.34 ms, total: 207 ms\n",
      "Wall time: 205 ms\n"
     ]
    }
   ],
   "source": [
    "%%time\n",
    "xs_heun = odeint_heun(DCM_ERPmodel, x_init, ts, theta_true)"
   ]
  },
  {
   "cell_type": "code",
   "execution_count": 20,
   "id": "c91f1a58",
   "metadata": {},
   "outputs": [
    {
     "name": "stdout",
     "output_type": "stream",
     "text": [
      "CPU times: user 289 ms, sys: 13.9 ms, total: 303 ms\n",
      "Wall time: 298 ms\n"
     ]
    }
   ],
   "source": [
    "%%time\n",
    "xs_rk4 = odeint_rk4(DCM_ERPmodel, x_init, ts, theta_true)"
   ]
  },
  {
   "cell_type": "markdown",
   "id": "2995a4c1",
   "metadata": {},
   "source": [
    "We have not placed JAX'JIT on odein integration function. Now, we put JAX's JIT on Odeint to make it more faster!"
   ]
  },
  {
   "cell_type": "code",
   "execution_count": 21,
   "id": "49550dd4",
   "metadata": {},
   "outputs": [],
   "source": [
    "@jax.jit\n",
    "def ERP_JAXOdeintSimuator(x_init, ts, params):\n",
    "    \n",
    "    xs_rk4 = odeint_euler(DCM_ERPmodel, x_init, ts, params)\n",
    "    x_py=xs_rk4[:,8]\n",
    "    \n",
    "    return x_py"
   ]
  },
  {
   "cell_type": "markdown",
   "id": "309e383b",
   "metadata": {},
   "source": [
    "The initial compilation takes a bit of time, but after that, it flies in the air!"
   ]
  },
  {
   "cell_type": "code",
   "execution_count": 22,
   "id": "62ce2282",
   "metadata": {},
   "outputs": [
    {
     "name": "stdout",
     "output_type": "stream",
     "text": [
      "CPU times: user 129 ms, sys: 6.24 ms, total: 135 ms\n",
      "Wall time: 131 ms\n"
     ]
    }
   ],
   "source": [
    "%%time\n",
    "xpy_jax=ERP_JAXOdeintSimuator(x_init, ts, theta_true)"
   ]
  },
  {
   "cell_type": "code",
   "execution_count": 23,
   "id": "09b67392",
   "metadata": {},
   "outputs": [
    {
     "name": "stdout",
     "output_type": "stream",
     "text": [
      "CPU times: user 1.16 ms, sys: 889 µs, total: 2.05 ms\n",
      "Wall time: 1.1 ms\n"
     ]
    }
   ],
   "source": [
    "%%time\n",
    "xpy_jax=ERP_JAXOdeintSimuator(x_init, ts, theta_true)"
   ]
  },
  {
   "cell_type": "markdown",
   "id": "ea3f46ed",
   "metadata": {},
   "source": [
    "### Diffrax"
   ]
  },
  {
   "cell_type": "code",
   "execution_count": 24,
   "id": "526370e5",
   "metadata": {},
   "outputs": [],
   "source": [
    "import diffrax\n",
    "from diffrax import diffeqsolve, Dopri5, ODETerm, Kvaerno5, Tsit5, SaveAt, PIDController"
   ]
  },
  {
   "cell_type": "code",
   "execution_count": 25,
   "id": "b9846fe2",
   "metadata": {},
   "outputs": [],
   "source": [
    "@jax.jit\n",
    "def Sigmodal(x1, x2, delta, alpha):\n",
    "    S=(1./(1.+jnp.exp(alpha*(x1-(delta*x2)))))-0.5\n",
    "    return S"
   ]
  },
  {
   "cell_type": "code",
   "execution_count": 26,
   "id": "59b123b0",
   "metadata": {},
   "outputs": [],
   "source": [
    "def DCM_ERP_vectorfield(ts, state, args):\n",
    "    \n",
    "    x0, x1, x2, x3, x4, x5, x6, x7, x8 = state\n",
    "    g_1, g_2, g_3, g_4, delta, tau_i, h_i, tau_e, h_e, u  = args\n",
    "    \n",
    "    c = constants[0]\n",
    "\n",
    "    dx0 = x3\n",
    "    dx1 = x4\n",
    "    dx2 = x5\n",
    "    dx6 = x7\n",
    "    dx3 = (1./tau_e) * (h_e * (g_1 * (Sigmodal(x8, x4 - x5, delta, c)) + u) - (x0 / tau_e) - 2 * x3)\n",
    "    dx4 = (1./tau_e) * (h_e * (g_2 * (Sigmodal(x0, x3, delta, c))) - (x1 / tau_e) - 2 * x4)\n",
    "    dx5 = (1./tau_i) * (h_i * (g_4 * (Sigmodal(x6, x7, delta, c))) - (x2 / tau_i) - 2 * x5)\n",
    "    dx7 = (1. / tau_e) * (h_e * (g_3 * (Sigmodal(x8, x4 - x5, delta, c))) - (x6 / tau_e) - 2 * x7)\n",
    "    dx8 = x4 - x5\n",
    "\n",
    "    return jnp.array([dx0, dx1, dx2, dx3, dx4, dx5, dx6, dx7, dx8])"
   ]
  },
  {
   "cell_type": "code",
   "execution_count": 27,
   "id": "2db04251",
   "metadata": {},
   "outputs": [],
   "source": [
    "term = ODETerm(DCM_ERP_vectorfield)\n",
    "solver = Dopri5()"
   ]
  },
  {
   "cell_type": "code",
   "execution_count": 28,
   "id": "0be02e20",
   "metadata": {},
   "outputs": [],
   "source": [
    "stepsize_controller = diffrax.PIDController(rtol=1e-8, atol=1e-8)"
   ]
  },
  {
   "cell_type": "code",
   "execution_count": 29,
   "id": "395b9067",
   "metadata": {},
   "outputs": [],
   "source": [
    "y0 = x_init\n",
    "    \n",
    "args = theta_true\n",
    "\n",
    "saveat = SaveAt(ts=jnp.linspace(t0, tend, nt))"
   ]
  },
  {
   "cell_type": "code",
   "execution_count": 30,
   "id": "693ac5d6",
   "metadata": {},
   "outputs": [
    {
     "name": "stdout",
     "output_type": "stream",
     "text": [
      "CPU times: user 1.24 s, sys: 76.2 ms, total: 1.31 s\n",
      "Wall time: 1.31 s\n"
     ]
    }
   ],
   "source": [
    "%%time\n",
    "sol = diffeqsolve(term, solver, t0, tend, dt, y0, args=args,  saveat=saveat, stepsize_controller=stepsize_controller)"
   ]
  },
  {
   "cell_type": "markdown",
   "id": "ad74a690",
   "metadata": {},
   "source": [
    "and then after compling it flies in the air!"
   ]
  },
  {
   "cell_type": "code",
   "execution_count": 31,
   "id": "913d94e8",
   "metadata": {},
   "outputs": [
    {
     "name": "stdout",
     "output_type": "stream",
     "text": [
      "CPU times: user 2.85 ms, sys: 907 µs, total: 3.76 ms\n",
      "Wall time: 2.66 ms\n"
     ]
    }
   ],
   "source": [
    "%%time\n",
    "sol = diffeqsolve(term, solver, t0, tend, dt, y0, args=args,  saveat=saveat, stepsize_controller=stepsize_controller)"
   ]
  },
  {
   "cell_type": "code",
   "execution_count": 32,
   "id": "2a610798",
   "metadata": {},
   "outputs": [],
   "source": [
    "xs_diffrax=sol.ys"
   ]
  },
  {
   "cell_type": "code",
   "execution_count": 33,
   "id": "7133e382",
   "metadata": {},
   "outputs": [
    {
     "data": {
      "image/png": "[encoded data removed]",
      "text/plain": [
       "<Figure size 600x400 with 1 Axes>"
      ]
     },
     "metadata": {},
     "output_type": "display_data"
    }
   ],
   "source": [
    "plt.figure(figsize=(6,4))\n",
    "plt.plot(ts, xpy_numba,'--', color='y', lw=4, label='Numba Euler');\n",
    "plt.plot(ts, xs_euler[:,8],'--', color='g', lw=3, label='JAX Euler');\n",
    "plt.plot(ts, xs_heun[:,8],'--', color='b', lw=2, label='JAX Heun');\n",
    "plt.plot(ts, xs_rk4[:,8],'--', color='r', lw=1, label='JAX RK4');\n",
    "plt.plot(ts, xs_diffrax[:,8],'--', color='m', lw=3, label='Difrax');\n",
    "plt.legend(fontsize=10, frameon=False, loc='upper right')\n",
    "plt.ylabel('Voltage [mV]', fontsize=14); \n",
    "plt.xlabel('Time [ms]', fontsize=14); \n",
    "plt.xticks(fontsize=12)\n",
    "plt.yticks(fontsize=12)\n",
    "plt.grid()\n",
    "plt.tight_layout();\n",
    "plt.savefig(os.path.join((output_dir),\"Simulators.png\"), dpi=300)\n",
    "plt.show()"
   ]
  },
  {
   "cell_type": "code",
   "execution_count": 34,
   "id": "2c5a327a",
   "metadata": {},
   "outputs": [
    {
     "name": "stdout",
     "output_type": "stream",
     "text": [
      "Numpy version: 1.24.3\n",
      "JAX version: 0.4.23\n",
      "Diffrax version: 0.5.0\n"
     ]
    }
   ],
   "source": [
    "#See the dependency at last cell!\n",
    "print(f\"Numpy version: {np.__version__}\")\n",
    "print(f\"JAX version: {jax.__version__}\")\n",
    "print(f\"Diffrax version: {diffrax.__version__}\")"
   ]
  },
  {
   "cell_type": "code",
   "execution_count": 35,
   "id": "e289e854",
   "metadata": {},
   "outputs": [
    {
     "name": "stdout",
     "output_type": "stream",
     "text": [
      "Last updated: Fri Apr 19 2024\n",
      "\n",
      "Python implementation: CPython\n",
      "Python version       : 3.11.7\n",
      "IPython version      : 8.20.0\n",
      "\n",
      "jax       : 0.4.23\n",
      "pathlib   : 1.0.1\n",
      "numpy     : 1.24.3\n",
      "numba     : 0.59.0\n",
      "diffrax   : 0.5.0\n",
      "sys       : 3.11.7 (main, Dec 15 2023, 12:09:04) [Clang 14.0.6 ]\n",
      "matplotlib: 3.8.0\n",
      "\n",
      "Watermark: 2.4.3\n",
      "\n"
     ]
    }
   ],
   "source": [
    "%load_ext watermark\n",
    "%watermark -n -u -v -iv -w"
   ]
  }
 ],
 "metadata": {
  "kernelspec": {
   "display_name": "Python 3 (ipykernel)",
   "language": "python",
   "name": "python3"
  },
  "language_info": {
   "codemirror_mode": {
    "name": "ipython",
    "version": 3
   },
   "file_extension": ".py",
   "mimetype": "text/x-python",
   "name": "python",
   "nbconvert_exporter": "python",
   "pygments_lexer": "ipython3",
   "version": "3.11.7"
  }
 },
 "nbformat": 4,
 "nbformat_minor": 5
}
