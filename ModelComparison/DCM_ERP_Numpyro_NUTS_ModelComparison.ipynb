{
 "cells": [
  {
   "cell_type": "code",
   "execution_count": 1,
   "id": "6d5ee711-d12a-44f0-95f4-68a7e8474009",
   "metadata": {},
   "outputs": [],
   "source": [
    "%matplotlib inline"
   ]
  },
  {
   "cell_type": "code",
   "execution_count": 2,
   "id": "90040a87",
   "metadata": {},
   "outputs": [],
   "source": [
    "import os\n",
    "import pathlib\n",
    "import sys\n",
    "import time\n",
    "\n",
    "import numpy as np\n",
    "import arviz as az\n",
    "import matplotlib.pyplot as plt\n",
    "import pandas as pd"
   ]
  },
  {
   "cell_type": "code",
   "execution_count": 3,
   "id": "ad5f72c1",
   "metadata": {},
   "outputs": [],
   "source": [
    "import jax \n",
    "import jax.numpy as jnp"
   ]
  },
  {
   "cell_type": "code",
   "execution_count": 4,
   "id": "fd8f4c81",
   "metadata": {},
   "outputs": [
    {
     "name": "stderr",
     "output_type": "stream",
     "text": [
      "/mnt/data/tng/phd/DCM/DCM_ERP_new/.pymc_env/lib/python3.10/site-packages/tqdm/auto.py:21: TqdmWarning: IProgress not found. Please update jupyter and ipywidgets. See https://ipywidgets.readthedocs.io/en/stable/user_install.html\n",
      "  from .autonotebook import tqdm as notebook_tqdm\n"
     ]
    }
   ],
   "source": [
    "import numpyro as npr\n",
    "from numpyro import sample, plate, deterministic\n",
    "import numpyro.distributions as dist\n",
    "from numpyro.infer import MCMC, NUTS, Predictive, init_to_value"
   ]
  },
  {
   "cell_type": "code",
   "execution_count": 5,
   "id": "895f41d0",
   "metadata": {},
   "outputs": [],
   "source": [
    "npr.set_platform(\"cpu\")"
   ]
  },
  {
   "cell_type": "code",
   "execution_count": 6,
   "id": "9e0750f3",
   "metadata": {},
   "outputs": [
    {
     "name": "stdout",
     "output_type": "stream",
     "text": [
      "Numpy version: 1.24.3\n",
      "JAX version: 0.4.23\n",
      "Numpyro version: 0.14.0\n",
      "Arviz version: 0.18.0\n"
     ]
    }
   ],
   "source": [
    "#See the dependency at last cell!\n",
    "print(f\"Numpy version: {np.__version__}\")\n",
    "print(f\"JAX version: {jax.__version__}\")\n",
    "print(f\"Numpyro version: {npr.__version__}\")\n",
    "print(f\"Arviz version: {az.__version__}\")"
   ]
  },
  {
   "cell_type": "code",
   "execution_count": 7,
   "id": "d7dbb437",
   "metadata": {},
   "outputs": [],
   "source": [
    "import warnings\n",
    "warnings.filterwarnings('ignore')\n",
    "warnings.simplefilter(action=\"ignore\", category=FutureWarning)"
   ]
  },
  {
   "cell_type": "code",
   "execution_count": 8,
   "id": "c4e98904",
   "metadata": {},
   "outputs": [],
   "source": [
    "cwd = os.getcwd()\n",
    "main_path = str(pathlib.Path.cwd().parent)\n",
    "sys.path.append(main_path) # Path to import the model and solver"
   ]
  },
  {
   "cell_type": "code",
   "execution_count": 9,
   "id": "1a96f217",
   "metadata": {},
   "outputs": [],
   "source": [
    "from ForwardModel.ERPmodel_JAX import DCM_ERPmodel, odeint_euler\n",
    "from Helper.ERPhelper import *"
   ]
  },
  {
   "cell_type": "code",
   "execution_count": 10,
   "id": "e213581d",
   "metadata": {},
   "outputs": [],
   "source": [
    "def aic(log_lik, nprms):\n",
    "    return 2 * nprms - 2 * np.max(log_lik)\n",
    "\n",
    "def bic(log_lik, nparams, ndata):\n",
    "    k = nparams\n",
    "    n = ndata\n",
    "    return -2 * np.max(log_lik) + k * np.log(n)"
   ]
  },
  {
   "cell_type": "markdown",
   "id": "c0eb2c26",
   "metadata": {},
   "source": [
    "## Simulator"
   ]
  },
  {
   "cell_type": "code",
   "execution_count": 11,
   "id": "e94217c8",
   "metadata": {},
   "outputs": [],
   "source": [
    "rng_key = jax.random.PRNGKey(0)"
   ]
  },
  {
   "cell_type": "code",
   "execution_count": 12,
   "id": "50a3e592",
   "metadata": {},
   "outputs": [],
   "source": [
    "tend = 200.0\n",
    "dt = 0.1\n",
    "t0 = 0.0\n",
    "ts = np.arange(t0, tend + dt, dt)\n",
    "nt = ts.shape[0]\n",
    "\n",
    "ns = 9\n",
    "x_init=np.zeros((ns))"
   ]
  },
  {
   "cell_type": "code",
   "execution_count": 13,
   "id": "fd8e6cc3",
   "metadata": {},
   "outputs": [],
   "source": [
    "theta_true = np.array([0.42, 0.76, 0.15, 0.16, 12.13, 7.77, 27.87, 5.77, 1.63, 3.94])\n",
    "n_params = theta_true.shape[0]\n",
    "my_var_names = ['g_1', 'g_2', 'g_3', 'g_4', 'delta', 'tau_i', 'h_i', 'tau_e', 'h_e', 'u']"
   ]
  },
  {
   "cell_type": "markdown",
   "id": "68715dd5",
   "metadata": {},
   "source": [
    "Run the model"
   ]
  },
  {
   "cell_type": "code",
   "execution_count": 14,
   "id": "02c53c37",
   "metadata": {},
   "outputs": [
    {
     "name": "stdout",
     "output_type": "stream",
     "text": [
      "CPU times: user 122 ms, sys: 1.55 ms, total: 124 ms\n",
      "Wall time: 119 ms\n"
     ]
    }
   ],
   "source": [
    "%%time\n",
    "xs_euler = odeint_euler(DCM_ERPmodel, x_init, ts, theta_true)"
   ]
  },
  {
   "cell_type": "markdown",
   "id": "c415f04a",
   "metadata": {},
   "source": [
    "We use Euler integration (see the ForwardModel for Heun and Rk4 integratores), But don't worry about computional time! we put JAX's JIT on Odeint to make it more faster!"
   ]
  },
  {
   "cell_type": "code",
   "execution_count": 15,
   "id": "5210f14d",
   "metadata": {},
   "outputs": [],
   "source": [
    "@jax.jit\n",
    "def ERP_JAXOdeintSimulator(x_init, ts, params):\n",
    "\n",
    "    xs_rk4 = odeint_euler(DCM_ERPmodel, x_init, ts, params)    \n",
    "    x_py=xs_rk4[:,8]\n",
    "    \n",
    "    return x_py"
   ]
  },
  {
   "cell_type": "markdown",
   "id": "0f0e868e",
   "metadata": {},
   "source": [
    "The initial compilation takes a bit of time, but after that, it flies through the air!"
   ]
  },
  {
   "cell_type": "code",
   "execution_count": 16,
   "id": "c650af7b",
   "metadata": {},
   "outputs": [
    {
     "name": "stdout",
     "output_type": "stream",
     "text": [
      "simulation with compiling took (sec): 0.09994006156921387\n"
     ]
    }
   ],
   "source": [
    "start_time = time.time()\n",
    "xpy_jax=ERP_JAXOdeintSimulator(x_init, ts, theta_true)\n",
    "print(\"simulation with compiling took (sec):\" , (time.time() - start_time))"
   ]
  },
  {
   "cell_type": "code",
   "execution_count": 17,
   "id": "666c78cb",
   "metadata": {},
   "outputs": [
    {
     "name": "stdout",
     "output_type": "stream",
     "text": [
      "simulation using JAX's JIT took (sec): 0.0006759166717529297\n"
     ]
    }
   ],
   "source": [
    "start_time = time.time()\n",
    "xpy_jax=ERP_JAXOdeintSimulator(x_init, ts, theta_true)\n",
    "print(\"simulation using JAX's JIT took (sec):\" , (time.time() - start_time))"
   ]
  },
  {
   "cell_type": "markdown",
   "id": "b9fa3423",
   "metadata": {},
   "source": [
    "## Synthetic Observation"
   ]
  },
  {
   "cell_type": "code",
   "execution_count": 18,
   "id": "3f10a2a7",
   "metadata": {},
   "outputs": [],
   "source": [
    "#observation noise\n",
    "sigma_true = 0.1 "
   ]
  },
  {
   "cell_type": "code",
   "execution_count": 19,
   "id": "36a5fc09",
   "metadata": {},
   "outputs": [],
   "source": [
    "xpy_jax = ERP_JAXOdeintSimulator(x_init, ts, theta_true)\n",
    "x_noise = np.random.normal(loc=0, scale=sigma_true, size=xpy_jax.shape)\n",
    "x_py = xpy_jax + x_noise"
   ]
  },
  {
   "cell_type": "code",
   "execution_count": 20,
   "id": "63d8ecbb",
   "metadata": {},
   "outputs": [],
   "source": [
    "#downsampling\n",
    "ds=10"
   ]
  },
  {
   "cell_type": "code",
   "execution_count": 21,
   "id": "cbd35368",
   "metadata": {},
   "outputs": [],
   "source": [
    "ts_obs=ts[::ds]\n",
    "xpy_obs=x_py[::ds]\n",
    "nt_obs=int(x_py[::ds].shape[0])"
   ]
  },
  {
   "cell_type": "code",
   "execution_count": 22,
   "id": "b7c92d93",
   "metadata": {},
   "outputs": [
    {
     "data": {
      "text/plain": [
       "((201,), (201,), 201)"
      ]
     },
     "execution_count": 22,
     "metadata": {},
     "output_type": "execute_result"
    }
   ],
   "source": [
    "ts_obs.shape, xpy_obs.shape, nt_obs"
   ]
  },
  {
   "cell_type": "code",
   "execution_count": 23,
   "id": "55da93d1",
   "metadata": {},
   "outputs": [],
   "source": [
    "data= { 'nt_obs': nt_obs, 'ds': ds, 'ts': ts, 'ts_obs': ts_obs, 'dt': dt, 'x_init': x_init, 'obs_err': sigma_true, 'xpy_obs': xpy_obs }"
   ]
  },
  {
   "cell_type": "code",
   "execution_count": 24,
   "id": "f4ebc35b",
   "metadata": {},
   "outputs": [
    {
     "data": {
      "image/png": "[encoded data removed]",
      "text/plain": [
       "<Figure size 600x400 with 1 Axes>"
      ]
     },
     "metadata": {},
     "output_type": "display_data"
    }
   ],
   "source": [
    "plot_observation(ts, xpy_jax, ts_obs, xpy_obs);"
   ]
  },
  {
   "cell_type": "markdown",
   "id": "a79e843c",
   "metadata": {},
   "source": [
    "## Prior"
   ]
  },
  {
   "cell_type": "code",
   "execution_count": 25,
   "id": "9f0e0524",
   "metadata": {},
   "outputs": [],
   "source": [
    "shape=[18.16, 29.9, 29.14, 30.77, 22.87, 34.67, 20.44, 33.02, 24.17, 23.62]\n",
    "scale=[0.03, 0.02, 0.005, 0.007, 0.51, 0.23, 0.96, 0.16, 0.07, 0.13]\n",
    "rate = 1. / np.array(scale)"
   ]
  },
  {
   "cell_type": "code",
   "execution_count": 26,
   "id": "2473c650",
   "metadata": {},
   "outputs": [],
   "source": [
    "prior_specs = dict(shape=shape, rate=rate)"
   ]
  },
  {
   "cell_type": "code",
   "execution_count": 27,
   "id": "df2dfecb",
   "metadata": {},
   "outputs": [],
   "source": [
    "def model(data, prior_specs, model_id=0):\n",
    "    #Data\n",
    "    dt = data['dt']\n",
    "    ts = data['ts']\n",
    "    ds = data['ds']\n",
    "    nt_obs = data['nt_obs']\n",
    "    x_init = data['x_init']\n",
    "    obs_err= data['obs_err']\n",
    "    obs = data['xpy_obs']\n",
    "\n",
    "    # Prior   \n",
    "    if model_id == 1 :\n",
    "        g_1 = 0\n",
    "    else :\n",
    "        g_1 = sample('g_1', dist.Gamma(prior_specs['shape'][0], prior_specs['rate'][0])) \n",
    "    if model_id == 2 :\n",
    "        g_2 = 0        \n",
    "    else :\n",
    "        g_2 = sample('g_2', dist.Gamma(prior_specs['shape'][1], prior_specs['rate'][1]))\n",
    "    if model_id == 3 :\n",
    "        g_3 = 0\n",
    "    else :\n",
    "        g_3 = sample('g_3', dist.Gamma(prior_specs['shape'][2], prior_specs['rate'][2]))\n",
    "    if model_id == 4:\n",
    "        g_4 = 0\n",
    "    else :\n",
    "        g_4 = sample('g_4', dist.Gamma(prior_specs['shape'][3], prior_specs['rate'][3]))\n",
    "        \n",
    "    delta = sample('delta', dist.Gamma(prior_specs['shape'][4], prior_specs['rate'][4]))\n",
    "    tau_i = sample('tau_i', dist.Gamma(prior_specs['shape'][5], prior_specs['rate'][5]))\n",
    "    h_i = sample('h_i', dist.Gamma(prior_specs['shape'][6], prior_specs['rate'][6]))\n",
    "    tau_e = sample('tau_e', dist.Gamma(prior_specs['shape'][7], prior_specs['rate'][7]))\n",
    "    h_e = sample('h_e', dist.Gamma(prior_specs['shape'][8], prior_specs['rate'][8]))\n",
    "    u = sample('u', dist.Gamma(prior_specs['shape'][9], prior_specs['rate'][9]))\n",
    "     \n",
    "    #Parameters    \n",
    "    params_samples = [g_1, g_2, g_3, g_4, delta, tau_i,  h_i, tau_e, h_e, u]\n",
    "    \n",
    "    #Forward model\n",
    "    xpy_hat=ERP_JAXOdeintSimulator(x_init, ts, params_samples)[::ds]\n",
    "    \n",
    "    # Likelihood\n",
    "    with plate('data', size=nt_obs):\n",
    "        xpy_model = deterministic('xpy_model', xpy_hat)\n",
    "        sample('xpy_obs', dist.Normal(xpy_model, obs_err), obs=obs)\n",
    "        xpy_ppc = sample('xpy_ppc', dist.Normal(xpy_model, obs_err))"
   ]
  },
  {
   "cell_type": "markdown",
   "id": "6eb3ed91",
   "metadata": {},
   "source": [
    "## NUTS sampling"
   ]
  },
  {
   "cell_type": "code",
   "execution_count": 28,
   "id": "5da9d2c3",
   "metadata": {},
   "outputs": [],
   "source": [
    "n_models = 5\n",
    "model_labels = ['Full model', r'$g_1 = 0$', r'$g_2 = 0$', r'$g_3 = 0$', r'$g_4 = 0$']\n",
    "model_nparams = [n_params, n_params-1, n_params-1, n_params-1, n_params-1]"
   ]
  },
  {
   "cell_type": "code",
   "execution_count": 29,
   "id": "1984af29",
   "metadata": {},
   "outputs": [],
   "source": [
    "n_warmup, n_samples, n_chains = 200, 200, 4"
   ]
  },
  {
   "cell_type": "code",
   "execution_count": 30,
   "id": "a99ee68a",
   "metadata": {},
   "outputs": [
    {
     "name": "stderr",
     "output_type": "stream",
     "text": [
      "sample: 100%|██████████| 400/400 [01:19<00:00,  5.03it/s, 1023 steps of size 5.75e-03. acc. prob=0.96]\n",
      "sample: 100%|██████████| 400/400 [00:51<00:00,  7.74it/s, 511 steps of size 7.70e-03. acc. prob=0.93] \n",
      "sample: 100%|██████████| 400/400 [00:50<00:00,  7.98it/s, 511 steps of size 7.95e-03. acc. prob=0.93] \n",
      "sample: 100%|██████████| 400/400 [00:51<00:00,  7.84it/s, 511 steps of size 6.88e-03. acc. prob=0.94] \n"
     ]
    },
    {
     "name": "stdout",
     "output_type": "stream",
     "text": [
      "Model 0 using NUTS' Numpyro took (sec): 236.34547185897827\n"
     ]
    },
    {
     "name": "stderr",
     "output_type": "stream",
     "text": [
      "sample: 100%|██████████| 400/400 [00:52<00:00,  7.66it/s, 511 steps of size 7.49e-03. acc. prob=0.94] \n",
      "sample: 100%|██████████| 400/400 [00:50<00:00,  7.92it/s, 511 steps of size 7.78e-03. acc. prob=0.94] \n",
      "sample: 100%|██████████| 400/400 [00:49<00:00,  8.11it/s, 511 steps of size 8.53e-03. acc. prob=0.93] \n",
      "sample: 100%|██████████| 400/400 [00:49<00:00,  8.03it/s, 511 steps of size 7.83e-03. acc. prob=0.94] \n"
     ]
    },
    {
     "name": "stdout",
     "output_type": "stream",
     "text": [
      "Model 1 using NUTS' Numpyro took (sec): 204.49950170516968\n"
     ]
    },
    {
     "name": "stderr",
     "output_type": "stream",
     "text": [
      "sample: 100%|██████████| 400/400 [00:05<00:00, 75.92it/s, 15 steps of size 3.67e-01. acc. prob=0.86] \n",
      "sample: 100%|██████████| 400/400 [00:04<00:00, 84.74it/s, 15 steps of size 3.57e-01. acc. prob=0.87] \n",
      "sample: 100%|██████████| 400/400 [00:04<00:00, 85.06it/s, 15 steps of size 3.99e-01. acc. prob=0.84] \n",
      "sample: 100%|██████████| 400/400 [00:04<00:00, 81.43it/s, 15 steps of size 3.76e-01. acc. prob=0.87] \n"
     ]
    },
    {
     "name": "stdout",
     "output_type": "stream",
     "text": [
      "Model 2 using NUTS' Numpyro took (sec): 22.12941074371338\n"
     ]
    },
    {
     "name": "stderr",
     "output_type": "stream",
     "text": [
      "sample: 100%|██████████| 400/400 [00:32<00:00, 12.30it/s, 255 steps of size 1.47e-02. acc. prob=0.94] \n",
      "sample: 100%|██████████| 400/400 [00:33<00:00, 11.96it/s, 255 steps of size 1.43e-02. acc. prob=0.95] \n",
      "sample: 100%|██████████| 400/400 [00:35<00:00, 11.13it/s, 511 steps of size 1.34e-02. acc. prob=0.95] \n",
      "sample: 100%|██████████| 400/400 [00:40<00:00,  9.96it/s, 511 steps of size 1.31e-02. acc. prob=0.94] \n"
     ]
    },
    {
     "name": "stdout",
     "output_type": "stream",
     "text": [
      "Model 3 using NUTS' Numpyro took (sec): 144.2980284690857\n"
     ]
    },
    {
     "name": "stderr",
     "output_type": "stream",
     "text": [
      "sample: 100%|██████████| 400/400 [00:31<00:00, 12.67it/s, 255 steps of size 1.75e-02. acc. prob=0.93] \n",
      "sample: 100%|██████████| 400/400 [00:30<00:00, 13.00it/s, 255 steps of size 1.61e-02. acc. prob=0.95] \n",
      "sample: 100%|██████████| 400/400 [00:31<00:00, 12.82it/s, 255 steps of size 1.66e-02. acc. prob=0.94] \n",
      "sample: 100%|██████████| 400/400 [00:31<00:00, 12.72it/s, 255 steps of size 1.55e-02. acc. prob=0.94] \n"
     ]
    },
    {
     "name": "stdout",
     "output_type": "stream",
     "text": [
      "Model 4 using NUTS' Numpyro took (sec): 127.305011510849\n"
     ]
    }
   ],
   "source": [
    "az_mcmc_fits = []\n",
    "\n",
    "for imodel in range(n_models) :\n",
    "    \n",
    "    #prior and initialization\n",
    "    n_ = 100\n",
    "    prior_predictive = Predictive(model, num_samples=n_)\n",
    "    prior_predictions = prior_predictive(rng_key, data, prior_specs,  model_id=imodel)\n",
    "    tails_5th_percentile = tails_percentile(my_var_names, prior_predictions, 0.05)\n",
    "    init_to_low_prob = init_to_value(values=tails_5th_percentile)\n",
    "    \n",
    "    # NUTS set up\n",
    "    kernel = NUTS(model, max_tree_depth=10,  dense_mass=False, adapt_step_size=True, init_strategy=init_to_low_prob)\n",
    "    mcmc = MCMC(kernel, num_warmup=n_warmup, num_samples=n_samples, num_chains=n_chains, chain_method='parallel')\n",
    "    \n",
    "    #RUN NUTS\n",
    "    start_time = time.time()\n",
    "    mcmc.run(rng_key, data, prior_specs, model_id=imodel, \n",
    "             extra_fields=('potential_energy', 'num_steps', 'diverging'))\n",
    "    print(\"Model \" + str(imodel) + \" using NUTS' Numpyro took (sec):\" , (time.time() - start_time))\n",
    "    \n",
    "    az_mcmc_fits.append(az.from_numpyro(mcmc))"
   ]
  },
  {
   "cell_type": "code",
   "execution_count": 31,
   "id": "5610d7e2",
   "metadata": {},
   "outputs": [
    {
     "data": {
      "image/png": "[encoded data removed]",
      "text/plain": [
       "<Figure size 1400x300 with 5 Axes>"
      ]
     },
     "metadata": {},
     "output_type": "display_data"
    }
   ],
   "source": [
    "fig, ax = plt.subplots(ncols=n_models, figsize=(14, 3))\n",
    "\n",
    "for i in range(n_models) :\n",
    "    ax[i].plot(xpy_obs, 'r.', markersize=3, label='obs')\n",
    "    ax[i].set_title(model_labels[i])\n",
    "    xpy_fit = az_mcmc_fits[i].posterior['xpy_model']\n",
    "    ax[i].plot(xpy_fit.mean(axis=(0, 1)), color='b', label='pooled fit')\n",
    "ax[0].legend(frameon=False)\n",
    "fig.show()"
   ]
  },
  {
   "cell_type": "markdown",
   "id": "c47a7a3c",
   "metadata": {},
   "source": [
    "## Model comparison using information criteria"
   ]
  },
  {
   "cell_type": "code",
   "execution_count": 32,
   "id": "4961cba3",
   "metadata": {},
   "outputs": [],
   "source": [
    "models_aic = [aic(-az_mcmc_fits[i].sample_stats['lp'].values, model_nparams[i]) for i in range(n_models)]"
   ]
  },
  {
   "cell_type": "code",
   "execution_count": 33,
   "id": "3ee70145",
   "metadata": {},
   "outputs": [],
   "source": [
    "models_bic = [bic(-az_mcmc_fits[i].sample_stats['lp'].values, model_nparams[i], nt_obs) for i in range(n_models)]"
   ]
  },
  {
   "cell_type": "code",
   "execution_count": 34,
   "id": "71e05f8b",
   "metadata": {},
   "outputs": [],
   "source": [
    "models_waic = [az.waic(az_mcmc_fits[i], scale='deviance').elpd_waic for i in range(n_models)]"
   ]
  },
  {
   "cell_type": "code",
   "execution_count": 35,
   "id": "6d284f8f",
   "metadata": {},
   "outputs": [],
   "source": [
    "models_loo = [az.loo(az_mcmc_fits[i], scale='deviance').elpd_loo for i in range(n_models)]"
   ]
  },
  {
   "cell_type": "markdown",
   "id": "6435ce9a",
   "metadata": {},
   "source": [
    "We now make all the criteria on the negative log scale. They were on the \"deviance\" scale, i.e. -2 log . The best model is the one that minimizes the deviance or negative log scale criteria.\n"
   ]
  },
  {
   "cell_type": "code",
   "execution_count": 36,
   "id": "8ebfb998",
   "metadata": {},
   "outputs": [],
   "source": [
    "models_ic = pd.DataFrame({'loo': 0.5*np.array(models_loo), \n",
    "                          'waic': 0.5*np.array(models_waic), \n",
    "                          'aic': 0.5*np.array(models_aic), \n",
    "                          'bic': 0.5*np.array(models_bic),\n",
    "                          'model': model_labels})"
   ]
  },
  {
   "cell_type": "code",
   "execution_count": 37,
   "id": "8b28b7bd",
   "metadata": {},
   "outputs": [
    {
     "data": {
      "text/html": [
       "<div>\n",
       "<style scoped>\n",
       "    .dataframe tbody tr th:only-of-type {\n",
       "        vertical-align: middle;\n",
       "    }\n",
       "\n",
       "    .dataframe tbody tr th {\n",
       "        vertical-align: top;\n",
       "    }\n",
       "\n",
       "    .dataframe thead th {\n",
       "        text-align: right;\n",
       "    }\n",
       "</style>\n",
       "<table border=\"1\" class=\"dataframe\">\n",
       "  <thead>\n",
       "    <tr style=\"text-align: right;\">\n",
       "      <th></th>\n",
       "      <th>loo</th>\n",
       "      <th>waic</th>\n",
       "      <th>aic</th>\n",
       "      <th>bic</th>\n",
       "      <th>model</th>\n",
       "    </tr>\n",
       "  </thead>\n",
       "  <tbody>\n",
       "    <tr>\n",
       "      <th>0</th>\n",
       "      <td>-158.737959</td>\n",
       "      <td>-158.772136</td>\n",
       "      <td>-358.903259</td>\n",
       "      <td>-342.386735</td>\n",
       "      <td>Full model</td>\n",
       "    </tr>\n",
       "    <tr>\n",
       "      <th>1</th>\n",
       "      <td>-158.870938</td>\n",
       "      <td>-158.915853</td>\n",
       "      <td>-365.216980</td>\n",
       "      <td>-350.352108</td>\n",
       "      <td>$g_1 = 0$</td>\n",
       "    </tr>\n",
       "    <tr>\n",
       "      <th>2</th>\n",
       "      <td>62638.891107</td>\n",
       "      <td>62638.893012</td>\n",
       "      <td>62438.406250</td>\n",
       "      <td>62453.271122</td>\n",
       "      <td>$g_2 = 0$</td>\n",
       "    </tr>\n",
       "    <tr>\n",
       "      <th>3</th>\n",
       "      <td>14499.534337</td>\n",
       "      <td>14488.917382</td>\n",
       "      <td>14213.208008</td>\n",
       "      <td>14228.072880</td>\n",
       "      <td>$g_3 = 0$</td>\n",
       "    </tr>\n",
       "    <tr>\n",
       "      <th>4</th>\n",
       "      <td>14496.993400</td>\n",
       "      <td>14503.342475</td>\n",
       "      <td>14215.019531</td>\n",
       "      <td>14229.884403</td>\n",
       "      <td>$g_4 = 0$</td>\n",
       "    </tr>\n",
       "  </tbody>\n",
       "</table>\n",
       "</div>"
      ],
      "text/plain": [
       "            loo          waic           aic           bic       model\n",
       "0   -158.737959   -158.772136   -358.903259   -342.386735  Full model\n",
       "1   -158.870938   -158.915853   -365.216980   -350.352108   $g_1 = 0$\n",
       "2  62638.891107  62638.893012  62438.406250  62453.271122   $g_2 = 0$\n",
       "3  14499.534337  14488.917382  14213.208008  14228.072880   $g_3 = 0$\n",
       "4  14496.993400  14503.342475  14215.019531  14229.884403   $g_4 = 0$"
      ]
     },
     "execution_count": 37,
     "metadata": {},
     "output_type": "execute_result"
    }
   ],
   "source": [
    "models_ic"
   ]
  },
  {
   "cell_type": "code",
   "execution_count": 38,
   "id": "271faa60",
   "metadata": {},
   "outputs": [
    {
     "data": {
      "image/png": "[encoded data removed]",
      "text/plain": [
       "<Figure size 600x450 with 1 Axes>"
      ]
     },
     "metadata": {},
     "output_type": "display_data"
    }
   ],
   "source": [
    "fig, ax = plt.subplots(figsize=(6, 4.5))\n",
    "sns.barplot(models_ic.melt('model', var_name='criterion'), \n",
    "            x='model', \n",
    "            y='value', \n",
    "            hue='criterion', \n",
    "            palette='magma', \n",
    "            ax=ax)\n",
    "for i in range(4) :\n",
    "    ax.bar_label(ax.containers[i], fmt='%.2f', fontsize=10, rotation=50)\n",
    "    \n",
    "ax.set_ylim([-10000, 85000])\n",
    "ax.set_yticks(range(0, 65000, 20000))   \n",
    "ax.set_xticks(range(5))\n",
    "ax.set_xlabel('Models')\n",
    "ax.set_ylabel('Value')\n",
    "ax.legend(frameon=False, loc='upper left')\n",
    "ax.set_title('Model comparison (HMC)') \n",
    "sns.despine(offset=10) ;"
   ]
  },
  {
   "cell_type": "code",
   "execution_count": 39,
   "id": "97297cee",
   "metadata": {},
   "outputs": [
    {
     "name": "stdout",
     "output_type": "stream",
     "text": [
      "Last updated: Mon Jul 15 2024\n",
      "\n",
      "Python implementation: CPython\n",
      "Python version       : 3.8.11\n",
      "IPython version      : 8.11.0\n",
      "\n",
      "arviz       : 0.15.1\n",
      "clb_nb_utils: 0.1.0.dev0\n",
      "jax         : 0.4.13\n",
      "numpyro     : 0.12.1\n",
      "numpy       : 1.23.5\n",
      "seaborn     : 0.12.2\n",
      "matplotlib  : 3.7.3\n",
      "pandas      : 2.0.3\n",
      "\n",
      "Watermark: 2.4.3\n",
      "\n"
     ]
    }
   ],
   "source": [
    "%load_ext watermark\n",
    "%watermark -n -u -v -iv -w"
   ]
  }
 ],
 "metadata": {
  "kernelspec": {
   "display_name": ".pymc_env",
   "language": "python",
   "name": ".pymc_env"
  },
  "language_info": {
   "codemirror_mode": {
    "name": "ipython",
    "version": 3
   },
   "file_extension": ".py",
   "mimetype": "text/x-python",
   "name": "python",
   "nbconvert_exporter": "python",
   "pygments_lexer": "ipython3",
   "version": "3.10.12"
  }
 },
 "nbformat": 4,
 "nbformat_minor": 5
}
